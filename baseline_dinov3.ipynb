{
 "cells": [
  {
   "cell_type": "code",
   "execution_count": null,
   "id": "76780470",
   "metadata": {},
   "outputs": [],
   "source": [
    "# Imports\n",
    "import torch\n",
    "import numpy as np\n",
    "from PIL import Image\n",
    "import os, re, random\n",
    "from tqdm import tqdm\n",
    "import matplotlib.pyplot as plt\n",
    "from torchvision import transforms\n",
    "from transformers import AutoImageProcessor, AutoModel\n",
    "import csv\n",
    "from pathlib import Path\n",
    "\n",
    "# Settings\n",
    "SEED = 1\n",
    "BATCH_SIZE = 32\n",
    "TOP_K = 10\n",
    "MODEL_ID = \"facebook/dinov3-vit7b16-pretrain-lvd1689m\"  # change to desired HF model id (e.g., dinov2 or dinov3)\n",
    "IMAGES_ROOT = \"petface/dog\"  # root directory for images\n",
    "TEST_GALLERY = \"splits_petface_test_10k/test_gallery.csv\"\n",
    "TEST_QUERY = \"splits_petface_test_10k/test_query.csv\"\n",
    "os.environ[\"CUDA_VISIBLE_DEVICES\"] = \"2\"\n",
    "\n",
    "# Reproducibility\n",
    "random.seed(SEED)\n",
    "torch.manual_seed(SEED)\n",
    "np.random.seed(SEED)\n",
    "torch.backends.cudnn.deterministic = True\n",
    "torch.backends.cudnn.benchmark = False"
   ]
  },
  {
   "cell_type": "code",
   "execution_count": 2,
   "id": "04cd217b",
   "metadata": {},
   "outputs": [
    {
     "name": "stdout",
     "output_type": "stream",
     "text": [
      "Using device: cuda\n"
     ]
    },
    {
     "name": "stderr",
     "output_type": "stream",
     "text": [
      "Loading checkpoint shards: 100%|██████████| 6/6 [00:00<00:00, 68.89it/s]\n",
      "\n"
     ]
    },
    {
     "name": "stdout",
     "output_type": "stream",
     "text": [
      "Loaded Hugging Face model: facebook/dinov3-vit7b16-pretrain-lvd1689m\n",
      "Total gallery images: 20590, Total query images: 10000\n"
     ]
    }
   ],
   "source": [
    "# ----------\n",
    "# Loading\n",
    "# ----------\n",
    "\n",
    "# Device configuration\n",
    "device = torch.device(\"cuda\" if torch.cuda.is_available() else \"cpu\")\n",
    "print(\"Using device:\", device)\n",
    "\n",
    "# Load DINOv2 from Hugging Face\n",
    "processor = AutoImageProcessor.from_pretrained(MODEL_ID, use_fast=True)\n",
    "model = AutoModel.from_pretrained(MODEL_ID).to(device)\n",
    "model.eval()\n",
    "print(\"Loaded Hugging Face model:\", MODEL_ID)\n",
    "\n",
    "\n",
    "# Load images and labels from CSV splits\n",
    "def load_images_from_split(csv_path):\n",
    "    img_paths = []\n",
    "    labels = []\n",
    "    root = Path(IMAGES_ROOT)\n",
    "    with open(csv_path, \"r\", newline=\"\") as f:\n",
    "        reader = csv.DictReader(f)\n",
    "        # Expecting columns: img_rel_path, pid\n",
    "        for row in reader:\n",
    "            rel = row.get(\"img_rel_path\")\n",
    "            pid = row.get(\"pid\")\n",
    "            if rel is None or pid is None:\n",
    "                # Skip malformed rows\n",
    "                continue\n",
    "            full = root / rel\n",
    "            img_paths.append(str(full))\n",
    "            # Try converting pid to int; if that fails, try to infer from path components\n",
    "            try:\n",
    "                labels.append(int(pid))\n",
    "            except Exception:\n",
    "                inferred = None\n",
    "                try:\n",
    "                    m = re.search(r\"(\\d+)\", rel)\n",
    "                    if m:\n",
    "                        inferred = int(m.group(1))\n",
    "                except Exception:\n",
    "                    inferred = None\n",
    "                labels.append(inferred if inferred is not None else -1)\n",
    "    return img_paths, labels\n",
    "\n",
    "\n",
    "gallery_paths, gallery_labels = load_images_from_split(TEST_GALLERY)\n",
    "query_paths, query_labels = load_images_from_split(TEST_QUERY)\n",
    "print(\n",
    "    f\"Total gallery images: {len(gallery_paths)}, Total query images: {len(query_paths)}\"\n",
    ")"
   ]
  },
  {
   "cell_type": "code",
   "execution_count": 3,
   "id": "f211d7a0",
   "metadata": {},
   "outputs": [
    {
     "name": "stdout",
     "output_type": "stream",
     "text": [
      "Extracting query features...\n"
     ]
    },
    {
     "name": "stderr",
     "output_type": "stream",
     "text": [
      "Extracting (HF): 100%|██████████| 313/313 [33:07<00:00,  6.35s/it]\n",
      "\n"
     ]
    },
    {
     "name": "stdout",
     "output_type": "stream",
     "text": [
      "Extracting gallery features...\n"
     ]
    },
    {
     "name": "stderr",
     "output_type": "stream",
     "text": [
      "Extracting (HF): 100%|██████████| 644/644 [1:08:06<00:00,  6.35s/it]\n"
     ]
    }
   ],
   "source": [
    "# ----------\n",
    "# Inference\n",
    "# ----------\n",
    "\n",
    "\n",
    "# Extract features (embeddings) using DINO\n",
    "@torch.no_grad()\n",
    "def extract_features(img_paths):\n",
    "    feats = []\n",
    "    valid_indices = []\n",
    "    for i in tqdm(range(0, len(img_paths), BATCH_SIZE), desc=\"Extracting (HF)\"):\n",
    "        batch_paths = img_paths[i : i + BATCH_SIZE]\n",
    "        images = []\n",
    "        batch_valid_idxs = []\n",
    "        # Load and preprocess images\n",
    "        for j, p in enumerate(batch_paths):\n",
    "            try:\n",
    "                images.append(Image.open(p).convert(\"RGB\"))\n",
    "                batch_valid_idxs.append(i + j)  # global index\n",
    "            except Exception as e:\n",
    "                print(f\"Warning: failed to open {p}: {e}\")\n",
    "        if len(images) == 0:\n",
    "            continue\n",
    "        # Model inference\n",
    "        inputs = processor(images=images, return_tensors=\"pt\")\n",
    "        x = inputs[\"pixel_values\"].to(device)\n",
    "        out = model(x)\n",
    "        # Extract features from model output\n",
    "        if hasattr(out, \"pooler_output\") and out.pooler_output is not None:\n",
    "            feat = out.pooler_output\n",
    "        elif hasattr(out, \"last_hidden_state\"):\n",
    "            feat = out.last_hidden_state[:, 0, :]\n",
    "        elif isinstance(out, torch.Tensor):\n",
    "            feat = out\n",
    "        else:\n",
    "            raise RuntimeError(\"Unrecognized HF model output structure; inspect `out`\")\n",
    "        # Normalisation\n",
    "        norm = feat.norm(dim=-1, keepdim=True).clamp_min(1e-12)\n",
    "        feat = feat / norm\n",
    "        feats.append(feat.cpu().numpy())\n",
    "        valid_indices.extend(batch_valid_idxs)\n",
    "\n",
    "    if len(feats) == 0:\n",
    "        return np.zeros((0, 0), dtype=np.float32), []\n",
    "    return np.vstack(feats).astype(np.float32), valid_indices\n",
    "\n",
    "\n",
    "print(\"Extracting query features...\")\n",
    "query_feats, q_valid_idx = extract_features(query_paths)\n",
    "print(\"Extracting gallery features...\")\n",
    "gallery_feats, g_valid_idx = extract_features(gallery_paths)\n",
    "\n",
    "# Filter labels and paths to only the successfully-loaded images for alignment\n",
    "query_labels = [query_labels[i] for i in q_valid_idx]\n",
    "query_paths = [query_paths[i] for i in q_valid_idx]\n",
    "gallery_labels = [gallery_labels[i] for i in g_valid_idx]\n",
    "gallery_paths = [gallery_paths[i] for i in g_valid_idx]"
   ]
  },
  {
   "cell_type": "code",
   "execution_count": 5,
   "id": "fec1d226",
   "metadata": {},
   "outputs": [
    {
     "name": "stderr",
     "output_type": "stream",
     "text": [
      "100%|██████████| 10000/10000 [00:57<00:00, 175.06it/s]\n",
      "\n"
     ]
    },
    {
     "name": "stdout",
     "output_type": "stream",
     "text": [
      "Top-1 Accuracy: 0.7838\n",
      "Top-5 Accuracy: 0.8709\n",
      "Top-10 Accuracy: 0.8972\n",
      "mAP: 0.7395\n",
      "mAP: 0.7395\n"
     ]
    },
    {
     "data": {
      "image/png": "[encoded data removed]",
      "text/plain": [
       "<Figure size 640x480 with 1 Axes>"
      ]
     },
     "metadata": {},
     "output_type": "display_data"
    }
   ],
   "source": [
    "# ----------\n",
    "# Evaluation\n",
    "# ----------\n",
    "\n",
    "# Calculate and sort by cosine similarity\n",
    "pred_labels_topk = []\n",
    "pred_labels_top1 = []\n",
    "\n",
    "# Iterate over valid query features by index to keep alignment after filtering\n",
    "for q_idx in tqdm(range(len(query_feats)), total=len(query_feats)):\n",
    "    q_feat = query_feats[q_idx]\n",
    "    true_label = query_labels[q_idx]\n",
    "    sims = np.dot(gallery_feats, q_feat)\n",
    "    # Mask exact same image path in gallery to avoid trivial self-match\n",
    "    q_path = query_paths[q_idx]\n",
    "    for gi, gpath in enumerate(gallery_paths):\n",
    "        if gpath == q_path:\n",
    "            sims[gi] = -np.inf\n",
    "    # Get top-k indices (handle small gallery safely)\n",
    "    topk_idx = np.argsort(sims)[-min(TOP_K, len(sims)) :][::-1]\n",
    "    topk_labels = [gallery_labels[idx] for idx in topk_idx]\n",
    "    pred_labels_topk.append(topk_labels)\n",
    "    pred_labels_top1.append(topk_labels[0] if len(topk_labels) > 0 else -1)\n",
    "\n",
    "# Top1 / Top5 / Top10\n",
    "top1_acc = np.mean(\n",
    "    [q == (p[0] if p else -1) for q, p in zip(query_labels, pred_labels_topk)]\n",
    ")\n",
    "top5_acc = np.mean(\n",
    "    [q in (p[:5] if p else []) for q, p in zip(query_labels, pred_labels_topk)]\n",
    ")\n",
    "top10_acc = np.mean(\n",
    "    [q in (p[:10] if p else []) for q, p in zip(query_labels, pred_labels_topk)]\n",
    ")\n",
    "print(f\"Top-1 Accuracy: {top1_acc:.4f}\")\n",
    "print(f\"Top-5 Accuracy: {top5_acc:.4f}\")\n",
    "print(f\"Top-10 Accuracy: {top10_acc:.4f}\")\n",
    "\n",
    "# mAP\n",
    "aps = []\n",
    "for q_label, preds in zip(query_labels, pred_labels_topk):\n",
    "    # Find all positions where the prediction matches the query label\n",
    "    hits = [i for i, p in enumerate(preds[:TOP_K]) if p == q_label]\n",
    "    num_rel = sum([g == q_label for g in gallery_labels])\n",
    "    if num_rel == 0 or len(hits) == 0:\n",
    "        aps.append(0.0)\n",
    "        continue\n",
    "    precisions = []\n",
    "    for hit_idx in hits:\n",
    "        # Precision at each correct hit (1-based rank)\n",
    "        precisions.append(\n",
    "            sum([preds[j] == q_label for j in range(hit_idx + 1)]) / (hit_idx + 1)\n",
    "        )\n",
    "    # Average precision for this query: mean over all correct hits, normalized by number of relevant items in gallery\n",
    "    ap = np.sum(precisions) / min(num_rel, TOP_K)\n",
    "    aps.append(ap)\n",
    "mAP = np.mean(aps) if len(aps) > 0 else 0.0\n",
    "print(f\"mAP: {mAP:.4f}\")\n",
    "\n",
    "# CMC Curve\n",
    "max_rank = 10\n",
    "cmc = np.zeros(max_rank)\n",
    "valid_q_mask = [lbl != -1 for lbl in query_labels]\n",
    "valid_q_count = sum(valid_q_mask)\n",
    "for q_idx, true_label in enumerate(query_labels):\n",
    "    if true_label == -1:\n",
    "        continue\n",
    "    preds = pred_labels_topk[q_idx]\n",
    "    ranked_labels = preds[:max_rank] + [-1] * max(0, max_rank - len(preds))\n",
    "    for r in range(max_rank):\n",
    "        if true_label in ranked_labels[: r + 1]:\n",
    "            cmc[r:] += 1\n",
    "            break\n",
    "cmc = cmc / max(1, valid_q_count)\n",
    "plt.figure()\n",
    "plt.plot(range(1, max_rank + 1), cmc, marker=\"o\")\n",
    "plt.xlabel(\"Rank-k\")\n",
    "plt.ylabel(\"CMC\")\n",
    "plt.title(\"CMC Curve (up to Rank-10)\")\n",
    "plt.grid()\n",
    "plt.show()"
   ]
  }
 ],
 "metadata": {
  "kernelspec": {
   "display_name": ".venv",
   "language": "python",
   "name": "python3"
  },
  "language_info": {
   "codemirror_mode": {
    "name": "ipython",
    "version": 3
   },
   "file_extension": ".py",
   "mimetype": "text/x-python",
   "name": "python",
   "nbconvert_exporter": "python",
   "pygments_lexer": "ipython3",
   "version": "3.10.12"
  }
 },
 "nbformat": 4,
 "nbformat_minor": 5
}
